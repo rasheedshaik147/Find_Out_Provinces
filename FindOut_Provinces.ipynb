{
 "cells": [
  {
   "cell_type": "code",
   "execution_count": 1,
   "metadata": {},
   "outputs": [],
   "source": [
    "import pandas as pd \n",
    "import numpy as np \n",
    "import os \n",
    "import xlrd \n",
    "from langchain.llms import OpenAI\n",
    "from langchain.chat_models import ChatOpenAI\n",
    "from langchain.prompts import PromptTemplate "
   ]
  },
  {
   "cell_type": "code",
   "execution_count": null,
   "metadata": {},
   "outputs": [
    {
     "name": "stderr",
     "output_type": "stream",
     "text": [
      "C:\\Users\\LENOVO\\AppData\\Local\\Temp\\ipykernel_8672\\14006444.py:2: LangChainDeprecationWarning: The class `ChatOpenAI` was deprecated in LangChain 0.0.10 and will be removed in 1.0. An updated version of the class exists in the :class:`~langchain-openai package and should be used instead. To use it run `pip install -U :class:`~langchain-openai` and import as `from :class:`~langchain_openai import ChatOpenAI``.\n",
      "  llm = ChatOpenAI(model_name = \"gpt-3.5-turbo\", temperature = 0.3)\n"
     ]
    }
   ],
   "source": [
    "os.environ[\"OPENAI_API_KEY\"] = \"API Key\"\n",
    "llm = ChatOpenAI(model_name = \"gpt-3.5-turbo\", temperature = 0.3)"
   ]
  },
  {
   "cell_type": "code",
   "execution_count": 3,
   "metadata": {},
   "outputs": [],
   "source": [
    "df = pd.read_excel(\"C:\\\\Users\\\\LENOVO\\\\Downloads\\\\Chinese_addresses.xlsx\")"
   ]
  },
  {
   "cell_type": "code",
   "execution_count": 4,
   "metadata": {},
   "outputs": [
    {
     "data": {
      "text/html": [
       "<div>\n",
       "<style scoped>\n",
       "    .dataframe tbody tr th:only-of-type {\n",
       "        vertical-align: middle;\n",
       "    }\n",
       "\n",
       "    .dataframe tbody tr th {\n",
       "        vertical-align: top;\n",
       "    }\n",
       "\n",
       "    .dataframe thead th {\n",
       "        text-align: right;\n",
       "    }\n",
       "</style>\n",
       "<table border=\"1\" class=\"dataframe\">\n",
       "  <thead>\n",
       "    <tr style=\"text-align: right;\">\n",
       "      <th></th>\n",
       "      <th>Company Name</th>\n",
       "      <th>Street Name</th>\n",
       "      <th>Place</th>\n",
       "      <th>City</th>\n",
       "      <th>Pincode</th>\n",
       "    </tr>\n",
       "  </thead>\n",
       "  <tbody>\n",
       "    <tr>\n",
       "      <th>0</th>\n",
       "      <td>Wipro Chengdu Limited</td>\n",
       "      <td>天府大道南段599号天府软件园D2栋</td>\n",
       "      <td>天府软件园</td>\n",
       "      <td>成都</td>\n",
       "      <td>610041</td>\n",
       "    </tr>\n",
       "    <tr>\n",
       "      <th>1</th>\n",
       "      <td>Wipro Dalian Limited</td>\n",
       "      <td>甘井子区亿达春田BEST城D7栋</td>\n",
       "      <td>亿达春田BEST城</td>\n",
       "      <td>大连</td>\n",
       "      <td>116033</td>\n",
       "    </tr>\n",
       "    <tr>\n",
       "      <th>2</th>\n",
       "      <td>Cognizant Technology Solutions</td>\n",
       "      <td>汇贤园9号楼6-9层，腾飞软件园</td>\n",
       "      <td>高新技术产业园区</td>\n",
       "      <td>大连</td>\n",
       "      <td>-</td>\n",
       "    </tr>\n",
       "  </tbody>\n",
       "</table>\n",
       "</div>"
      ],
      "text/plain": [
       "                     Company Name         Street Name      Place City Pincode\n",
       "0           Wipro Chengdu Limited  天府大道南段599号天府软件园D2栋      天府软件园   成都  610041\n",
       "1            Wipro Dalian Limited    甘井子区亿达春田BEST城D7栋  亿达春田BEST城   大连  116033\n",
       "2  Cognizant Technology Solutions    汇贤园9号楼6-9层，腾飞软件园   高新技术产业园区   大连       -"
      ]
     },
     "execution_count": 4,
     "metadata": {},
     "output_type": "execute_result"
    }
   ],
   "source": [
    "df.head()"
   ]
  },
  {
   "cell_type": "code",
   "execution_count": 5,
   "metadata": {},
   "outputs": [
    {
     "data": {
      "text/plain": [
       "(3, 5)"
      ]
     },
     "execution_count": 5,
     "metadata": {},
     "output_type": "execute_result"
    }
   ],
   "source": [
    "df.shape"
   ]
  },
  {
   "cell_type": "code",
   "execution_count": 6,
   "metadata": {},
   "outputs": [
    {
     "name": "stdout",
     "output_type": "stream",
     "text": [
      "Index(['Company Name', 'Street Name', 'Place', 'City', 'Pincode'], dtype='object')\n"
     ]
    }
   ],
   "source": [
    "print(df.columns)\n"
   ]
  },
  {
   "cell_type": "code",
   "execution_count": 22,
   "metadata": {},
   "outputs": [],
   "source": [
    "from langchain.schema import SystemMessage, HumanMessage\n",
    "\n",
    "def get_area(street, city):\n",
    "    \"\"\"\"Use OPENAI to predict the missing area.\"\"\"\n",
    "    address = f\"{street},{city}\"\n",
    "    messages = [\n",
    "        SystemMessage(content=\"You are an AI assistant that extracts area information form English addresses.\"),\n",
    "        HumanMessage(content=f\"What is the area in the following address? {address}\\n return only with area name.\")\n",
    "    ]\n",
    "    response = llm(messages)\n",
    "    return response.content.strip() if response.content else \"\""
   ]
  },
  {
   "cell_type": "code",
   "execution_count": 8,
   "metadata": {},
   "outputs": [],
   "source": [
    "df[\"Place\"] = df.apply(lambda row: get_area(row[\"City\"], row[\"Chengdu\"]) if pd.isna(row[\"Place\"]) else row [\"Place\"], axis = 1)"
   ]
  },
  {
   "cell_type": "code",
   "execution_count": 9,
   "metadata": {},
   "outputs": [
    {
     "data": {
      "text/html": [
       "<div>\n",
       "<style scoped>\n",
       "    .dataframe tbody tr th:only-of-type {\n",
       "        vertical-align: middle;\n",
       "    }\n",
       "\n",
       "    .dataframe tbody tr th {\n",
       "        vertical-align: top;\n",
       "    }\n",
       "\n",
       "    .dataframe thead th {\n",
       "        text-align: right;\n",
       "    }\n",
       "</style>\n",
       "<table border=\"1\" class=\"dataframe\">\n",
       "  <thead>\n",
       "    <tr style=\"text-align: right;\">\n",
       "      <th></th>\n",
       "      <th>Company Name</th>\n",
       "      <th>Street Name</th>\n",
       "      <th>Place</th>\n",
       "      <th>City</th>\n",
       "      <th>Pincode</th>\n",
       "    </tr>\n",
       "  </thead>\n",
       "  <tbody>\n",
       "    <tr>\n",
       "      <th>0</th>\n",
       "      <td>Wipro Chengdu Limited</td>\n",
       "      <td>天府大道南段599号天府软件园D2栋</td>\n",
       "      <td>天府软件园</td>\n",
       "      <td>成都</td>\n",
       "      <td>610041</td>\n",
       "    </tr>\n",
       "    <tr>\n",
       "      <th>1</th>\n",
       "      <td>Wipro Dalian Limited</td>\n",
       "      <td>甘井子区亿达春田BEST城D7栋</td>\n",
       "      <td>亿达春田BEST城</td>\n",
       "      <td>大连</td>\n",
       "      <td>116033</td>\n",
       "    </tr>\n",
       "    <tr>\n",
       "      <th>2</th>\n",
       "      <td>Cognizant Technology Solutions</td>\n",
       "      <td>汇贤园9号楼6-9层，腾飞软件园</td>\n",
       "      <td>高新技术产业园区</td>\n",
       "      <td>大连</td>\n",
       "      <td>-</td>\n",
       "    </tr>\n",
       "  </tbody>\n",
       "</table>\n",
       "</div>"
      ],
      "text/plain": [
       "                     Company Name         Street Name      Place City Pincode\n",
       "0           Wipro Chengdu Limited  天府大道南段599号天府软件园D2栋      天府软件园   成都  610041\n",
       "1            Wipro Dalian Limited    甘井子区亿达春田BEST城D7栋  亿达春田BEST城   大连  116033\n",
       "2  Cognizant Technology Solutions    汇贤园9号楼6-9层，腾飞软件园   高新技术产业园区   大连       -"
      ]
     },
     "execution_count": 9,
     "metadata": {},
     "output_type": "execute_result"
    }
   ],
   "source": [
    "df.head()"
   ]
  },
  {
   "cell_type": "code",
   "execution_count": 10,
   "metadata": {},
   "outputs": [
    {
     "data": {
      "text/plain": [
       "0        天府软件园\n",
       "1    亿达春田BEST城\n",
       "2     高新技术产业园区\n",
       "Name: Place, dtype: object"
      ]
     },
     "execution_count": 10,
     "metadata": {},
     "output_type": "execute_result"
    }
   ],
   "source": [
    "df[\"Place\"].head(15)"
   ]
  },
  {
   "cell_type": "code",
   "execution_count": 11,
   "metadata": {},
   "outputs": [],
   "source": [
    "if \"raajy\" not in df.columns:\n",
    "    df[\"raajy\"] = None"
   ]
  },
  {
   "cell_type": "code",
   "execution_count": 12,
   "metadata": {},
   "outputs": [],
   "source": [
    "def get_state(pincode, street, city):\n",
    "    \"\"\"Use OpenAI to predict the state based on pincode, street, city\"\"\"\n",
    "    address1 = f\"{pincode},{street},{city}\"\n",
    "    messages = [\n",
    "        SystemMessage(content=\"You are an AI assistant that extracts state information from English addresses.\"),\n",
    "        HumanMessage(content=f\"What is the state in the following address? {address1}\\n return only with state name in English.\")\n",
    "    ]\n",
    "    response = llm(messages)\n",
    "    return response.content.strip() if response.content else \"\""
   ]
  },
  {
   "cell_type": "code",
   "execution_count": 13,
   "metadata": {},
   "outputs": [
    {
     "name": "stderr",
     "output_type": "stream",
     "text": [
      "C:\\Users\\LENOVO\\AppData\\Local\\Temp\\ipykernel_8672\\3875321795.py:8: LangChainDeprecationWarning: The method `BaseChatModel.__call__` was deprecated in langchain-core 0.1.7 and will be removed in 1.0. Use :meth:`~invoke` instead.\n",
      "  response = llm(messages)\n"
     ]
    }
   ],
   "source": [
    "df[\"raajy\"] = df.apply(lambda row: get_state(row[\"Pincode\"], row[\"Place\"], row[\"City\"]) if pd.isna(row[\"raajy\"]) else row [\"raajy\"], axis = 1)"
   ]
  },
  {
   "cell_type": "code",
   "execution_count": 14,
   "metadata": {},
   "outputs": [
    {
     "data": {
      "text/html": [
       "<div>\n",
       "<style scoped>\n",
       "    .dataframe tbody tr th:only-of-type {\n",
       "        vertical-align: middle;\n",
       "    }\n",
       "\n",
       "    .dataframe tbody tr th {\n",
       "        vertical-align: top;\n",
       "    }\n",
       "\n",
       "    .dataframe thead th {\n",
       "        text-align: right;\n",
       "    }\n",
       "</style>\n",
       "<table border=\"1\" class=\"dataframe\">\n",
       "  <thead>\n",
       "    <tr style=\"text-align: right;\">\n",
       "      <th></th>\n",
       "      <th>Company Name</th>\n",
       "      <th>Street Name</th>\n",
       "      <th>Place</th>\n",
       "      <th>City</th>\n",
       "      <th>Pincode</th>\n",
       "      <th>raajy</th>\n",
       "    </tr>\n",
       "  </thead>\n",
       "  <tbody>\n",
       "    <tr>\n",
       "      <th>0</th>\n",
       "      <td>Wipro Chengdu Limited</td>\n",
       "      <td>天府大道南段599号天府软件园D2栋</td>\n",
       "      <td>天府软件园</td>\n",
       "      <td>成都</td>\n",
       "      <td>610041</td>\n",
       "      <td>The state in the address \"610041,天府软件园,成都\" is ...</td>\n",
       "    </tr>\n",
       "    <tr>\n",
       "      <th>1</th>\n",
       "      <td>Wipro Dalian Limited</td>\n",
       "      <td>甘井子区亿达春田BEST城D7栋</td>\n",
       "      <td>亿达春田BEST城</td>\n",
       "      <td>大连</td>\n",
       "      <td>116033</td>\n",
       "      <td>The state in the address provided is Liaoning.</td>\n",
       "    </tr>\n",
       "    <tr>\n",
       "      <th>2</th>\n",
       "      <td>Cognizant Technology Solutions</td>\n",
       "      <td>汇贤园9号楼6-9层，腾飞软件园</td>\n",
       "      <td>高新技术产业园区</td>\n",
       "      <td>大连</td>\n",
       "      <td>-</td>\n",
       "      <td>The state in the address is Liaoning.</td>\n",
       "    </tr>\n",
       "  </tbody>\n",
       "</table>\n",
       "</div>"
      ],
      "text/plain": [
       "                     Company Name         Street Name      Place City Pincode  \\\n",
       "0           Wipro Chengdu Limited  天府大道南段599号天府软件园D2栋      天府软件园   成都  610041   \n",
       "1            Wipro Dalian Limited    甘井子区亿达春田BEST城D7栋  亿达春田BEST城   大连  116033   \n",
       "2  Cognizant Technology Solutions    汇贤园9号楼6-9层，腾飞软件园   高新技术产业园区   大连       -   \n",
       "\n",
       "                                               raajy  \n",
       "0  The state in the address \"610041,天府软件园,成都\" is ...  \n",
       "1     The state in the address provided is Liaoning.  \n",
       "2              The state in the address is Liaoning.  "
      ]
     },
     "execution_count": 14,
     "metadata": {},
     "output_type": "execute_result"
    }
   ],
   "source": [
    "df.head()"
   ]
  },
  {
   "cell_type": "code",
   "execution_count": 15,
   "metadata": {},
   "outputs": [
    {
     "data": {
      "text/plain": [
       "0    The state in the address \"610041,天府软件园,成都\" is ...\n",
       "1       The state in the address provided is Liaoning.\n",
       "2                The state in the address is Liaoning.\n",
       "Name: raajy, dtype: object"
      ]
     },
     "execution_count": 15,
     "metadata": {},
     "output_type": "execute_result"
    }
   ],
   "source": [
    "df['raajy'].head(15)"
   ]
  },
  {
   "cell_type": "code",
   "execution_count": 16,
   "metadata": {},
   "outputs": [],
   "source": [
    "if \"Country\" not in df.columns:\n",
    "    df[\"Country\"] = None"
   ]
  },
  {
   "cell_type": "code",
   "execution_count": 17,
   "metadata": {},
   "outputs": [],
   "source": [
    "def get_country(state, city, pincode):\n",
    "    \"\"\"Use OpenAI to predict the country based on state, city, pincode.\"\"\"\n",
    "    address2 = f\"{state},{city}, {pincode}\"\n",
    "    messages = [\n",
    "        SystemMessage(content=\"You are an AI assistant that extracts country information from English addresses.\"),\n",
    "        HumanMessage(content=f\"What is the country in the following address? {address2}\\n return only with country name in English.\")\n",
    "    ]\n",
    "\n",
    "    response = llm(messages)\n",
    "    return response.content.strip() if response.content else \"\""
   ]
  },
  {
   "cell_type": "code",
   "execution_count": 18,
   "metadata": {},
   "outputs": [],
   "source": [
    "df[\"Country\"] = df.apply (lambda row: get_country(row[\"Pincode\"], row[\"raajy\"], row[\"City\"]) if pd.isna(row[\"Country\"]) else row [\"Country\"], axis = 1)"
   ]
  },
  {
   "cell_type": "code",
   "execution_count": 19,
   "metadata": {},
   "outputs": [
    {
     "data": {
      "text/html": [
       "<div>\n",
       "<style scoped>\n",
       "    .dataframe tbody tr th:only-of-type {\n",
       "        vertical-align: middle;\n",
       "    }\n",
       "\n",
       "    .dataframe tbody tr th {\n",
       "        vertical-align: top;\n",
       "    }\n",
       "\n",
       "    .dataframe thead th {\n",
       "        text-align: right;\n",
       "    }\n",
       "</style>\n",
       "<table border=\"1\" class=\"dataframe\">\n",
       "  <thead>\n",
       "    <tr style=\"text-align: right;\">\n",
       "      <th></th>\n",
       "      <th>Company Name</th>\n",
       "      <th>Street Name</th>\n",
       "      <th>Place</th>\n",
       "      <th>City</th>\n",
       "      <th>Pincode</th>\n",
       "      <th>raajy</th>\n",
       "      <th>Country</th>\n",
       "    </tr>\n",
       "  </thead>\n",
       "  <tbody>\n",
       "    <tr>\n",
       "      <th>0</th>\n",
       "      <td>Wipro Chengdu Limited</td>\n",
       "      <td>天府大道南段599号天府软件园D2栋</td>\n",
       "      <td>天府软件园</td>\n",
       "      <td>成都</td>\n",
       "      <td>610041</td>\n",
       "      <td>The state in the address \"610041,天府软件园,成都\" is ...</td>\n",
       "      <td>The country in the address \"610041, 天府软件园, 成都\"...</td>\n",
       "    </tr>\n",
       "    <tr>\n",
       "      <th>1</th>\n",
       "      <td>Wipro Dalian Limited</td>\n",
       "      <td>甘井子区亿达春田BEST城D7栋</td>\n",
       "      <td>亿达春田BEST城</td>\n",
       "      <td>大连</td>\n",
       "      <td>116033</td>\n",
       "      <td>The state in the address provided is Liaoning.</td>\n",
       "      <td>The country in the provided address is China.</td>\n",
       "    </tr>\n",
       "    <tr>\n",
       "      <th>2</th>\n",
       "      <td>Cognizant Technology Solutions</td>\n",
       "      <td>汇贤园9号楼6-9层，腾飞软件园</td>\n",
       "      <td>高新技术产业园区</td>\n",
       "      <td>大连</td>\n",
       "      <td>-</td>\n",
       "      <td>The state in the address is Liaoning.</td>\n",
       "      <td>The country in the address you provided is China.</td>\n",
       "    </tr>\n",
       "  </tbody>\n",
       "</table>\n",
       "</div>"
      ],
      "text/plain": [
       "                     Company Name         Street Name      Place City Pincode  \\\n",
       "0           Wipro Chengdu Limited  天府大道南段599号天府软件园D2栋      天府软件园   成都  610041   \n",
       "1            Wipro Dalian Limited    甘井子区亿达春田BEST城D7栋  亿达春田BEST城   大连  116033   \n",
       "2  Cognizant Technology Solutions    汇贤园9号楼6-9层，腾飞软件园   高新技术产业园区   大连       -   \n",
       "\n",
       "                                               raajy  \\\n",
       "0  The state in the address \"610041,天府软件园,成都\" is ...   \n",
       "1     The state in the address provided is Liaoning.   \n",
       "2              The state in the address is Liaoning.   \n",
       "\n",
       "                                             Country  \n",
       "0  The country in the address \"610041, 天府软件园, 成都\"...  \n",
       "1      The country in the provided address is China.  \n",
       "2  The country in the address you provided is China.  "
      ]
     },
     "execution_count": 19,
     "metadata": {},
     "output_type": "execute_result"
    }
   ],
   "source": [
    "df.head()"
   ]
  },
  {
   "cell_type": "code",
   "execution_count": 20,
   "metadata": {},
   "outputs": [
    {
     "data": {
      "text/plain": [
       "0    The country in the address \"610041, 天府软件园, 成都\"...\n",
       "1        The country in the provided address is China.\n",
       "2    The country in the address you provided is China.\n",
       "Name: Country, dtype: object"
      ]
     },
     "execution_count": 20,
     "metadata": {},
     "output_type": "execute_result"
    }
   ],
   "source": [
    "df['Country'].head(15)"
   ]
  },
  {
   "cell_type": "code",
   "execution_count": 21,
   "metadata": {},
   "outputs": [],
   "source": [
    "#df.to_excel(\"C:\\\\Users\\\\LENOVO\\\\Downloads\\\\updated_company_addresses_English.xlsx\", index=False)\n"
   ]
  },
  {
   "cell_type": "code",
   "execution_count": null,
   "metadata": {},
   "outputs": [],
   "source": []
  }
 ],
 "metadata": {
  "kernelspec": {
   "display_name": "Python 3",
   "language": "python",
   "name": "python3"
  },
  "language_info": {
   "codemirror_mode": {
    "name": "ipython",
    "version": 3
   },
   "file_extension": ".py",
   "mimetype": "text/x-python",
   "name": "python",
   "nbconvert_exporter": "python",
   "pygments_lexer": "ipython3",
   "version": "3.12.2"
  }
 },
 "nbformat": 4,
 "nbformat_minor": 2
}
